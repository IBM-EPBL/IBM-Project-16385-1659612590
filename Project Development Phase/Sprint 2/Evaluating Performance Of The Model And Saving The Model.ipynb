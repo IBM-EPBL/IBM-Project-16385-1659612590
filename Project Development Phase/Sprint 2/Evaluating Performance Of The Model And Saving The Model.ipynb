{
 "cells": [
  {
   "cell_type": "markdown",
   "id": "2406605d",
   "metadata": {},
   "source": [
    "## Importing The Libraries"
   ]
  },
  {
   "cell_type": "code",
   "execution_count": null,
   "id": "f4d04de6",
   "metadata": {},
   "outputs": [],
   "source": [
    "import numpy as np\n",
    "import pandas as pd\n",
    "import pickle\n",
    "import seaborn as sns\n",
    "import matplotlib.pyplot as plt\n",
    "%matplotlib inline\n",
    "import sklearn\n",
    "from sklearn.preprocessing import LabelEncoder\n",
    "from sklearn.tree import DecisionTreeClassifier\n",
    "from sklearn.ensemble import GradientBoostingClassifier,RandomForestClassifier\n",
    "from sklearn.neighbors import KNeighborsClassifier\n",
    "from sklearn.model_selection import RandomizedSearchCV\n",
    "from xgboost import XGBClassifier\n",
    "from sklearn.ensemble import RandomForestClassifier\n",
    "import imblearn\n",
    "from imblearn.under_sampling import RandomUnderSampler\n",
    "from sklearn.model_selection import train_test_split\n",
    "from sklearn.preprocessing import scale\n",
    "from sklearn.preprocessing import StandardScaler\n",
    "from sklearn.metrics import accuracy_score,classification_report,confusion_matrix,f1_score\n",
    "import pickle\n"
   ]
  },
  {
   "cell_type": "markdown",
   "id": "5a606599",
   "metadata": {},
   "source": [
    "## Reading The Dataset"
   ]
  },
  {
   "cell_type": "code",
   "execution_count": null,
   "id": "cbec5dd4",
   "metadata": {},
   "outputs": [],
   "source": [
    "df=pd.read_csv('D:/riyas/Project Development phase/Sprint 1/Data Collection/loan_prediction.csv')\n",
    "df"
   ]
  },
  {
   "cell_type": "code",
   "execution_count": null,
   "id": "1e833c47",
   "metadata": {},
   "outputs": [],
   "source": [
    "df.head()"
   ]
  },
  {
   "cell_type": "code",
   "execution_count": null,
   "id": "49a65e21",
   "metadata": {},
   "outputs": [],
   "source": [
    "df.info()"
   ]
  },
  {
   "cell_type": "code",
   "execution_count": null,
   "id": "e50f58a9",
   "metadata": {},
   "outputs": [],
   "source": [
    "df.shape"
   ]
  },
  {
   "cell_type": "code",
   "execution_count": null,
   "id": "be2c7d13",
   "metadata": {},
   "outputs": [],
   "source": [
    "df=df.drop(columns=[\"Loan_ID\"],axis=1)"
   ]
  },
  {
   "cell_type": "markdown",
   "id": "43b80f2d",
   "metadata": {},
   "source": [
    "## Uni-Variate Analysis"
   ]
  },
  {
   "cell_type": "code",
   "execution_count": null,
   "id": "48274b51",
   "metadata": {},
   "outputs": [],
   "source": [
    "sns.distplot(df.ApplicantIncome)"
   ]
  },
  {
   "cell_type": "code",
   "execution_count": null,
   "id": "227a936a",
   "metadata": {},
   "outputs": [],
   "source": [
    "sns.countplot(df.Property_Area)"
   ]
  },
  {
   "cell_type": "code",
   "execution_count": null,
   "id": "25c9d103",
   "metadata": {},
   "outputs": [],
   "source": [
    "sns.countplot(df.Gender)"
   ]
  },
  {
   "cell_type": "code",
   "execution_count": null,
   "id": "a197bf18",
   "metadata": {},
   "outputs": [],
   "source": [
    "sns.countplot(df.Education)"
   ]
  },
  {
   "cell_type": "code",
   "execution_count": null,
   "id": "79d74b82",
   "metadata": {},
   "outputs": [],
   "source": [
    "sns.countplot(df.Self_Employed)"
   ]
  },
  {
   "cell_type": "code",
   "execution_count": null,
   "id": "58dbcaa5",
   "metadata": {},
   "outputs": [],
   "source": [
    "sns.countplot(df.Married)"
   ]
  },
  {
   "cell_type": "code",
   "execution_count": null,
   "id": "647190d0",
   "metadata": {},
   "outputs": [],
   "source": [
    "sns.histplot(df.LoanAmount)"
   ]
  },
  {
   "cell_type": "code",
   "execution_count": null,
   "id": "e275f0aa",
   "metadata": {},
   "outputs": [],
   "source": [
    "sns.displot(df.CoapplicantIncome)"
   ]
  },
  {
   "cell_type": "code",
   "execution_count": null,
   "id": "7d856b85",
   "metadata": {},
   "outputs": [],
   "source": [
    "plt.pie(df.Property_Area.value_counts(),[0,0,0],labels=['Semi urban','Urban','Rural'])"
   ]
  },
  {
   "cell_type": "code",
   "execution_count": null,
   "id": "32092b45",
   "metadata": {},
   "outputs": [],
   "source": [
    "df.Loan_Status.value_counts()"
   ]
  },
  {
   "cell_type": "code",
   "execution_count": null,
   "id": "2a8794f3",
   "metadata": {},
   "outputs": [],
   "source": [
    "df.Credit_History.value_counts()"
   ]
  },
  {
   "cell_type": "code",
   "execution_count": null,
   "id": "bd70b917",
   "metadata": {},
   "outputs": [],
   "source": [
    "plt.pie(df.Education.value_counts(),[0,0],labels=['Graduate','Not Graduate'])"
   ]
  },
  {
   "cell_type": "markdown",
   "id": "a7f4d35e",
   "metadata": {},
   "source": [
    "## Bivariate Analysis"
   ]
  },
  {
   "cell_type": "code",
   "execution_count": null,
   "id": "1b0a0669",
   "metadata": {},
   "outputs": [],
   "source": [
    "sns.countplot(df['Married'],hue=df['Gender'])"
   ]
  },
  {
   "cell_type": "code",
   "execution_count": null,
   "id": "d5a1b4bf",
   "metadata": {
    "scrolled": true
   },
   "outputs": [],
   "source": [
    "sns.countplot(df['ApplicantIncome'],hue=df['CoapplicantIncome'])"
   ]
  },
  {
   "cell_type": "code",
   "execution_count": null,
   "id": "4ef82d7d",
   "metadata": {},
   "outputs": [],
   "source": [
    "sns.countplot(df['LoanAmount'],hue=df['Property_Area'])"
   ]
  },
  {
   "cell_type": "code",
   "execution_count": null,
   "id": "178f1c7b",
   "metadata": {},
   "outputs": [],
   "source": [
    "sns.countplot(df['LoanAmount'],hue=df['Loan_Amount_Term'])"
   ]
  },
  {
   "cell_type": "code",
   "execution_count": null,
   "id": "32309b8b",
   "metadata": {},
   "outputs": [],
   "source": [
    "sns.countplot(df['Education'],hue=df['Self_Employed'])"
   ]
  },
  {
   "cell_type": "code",
   "execution_count": null,
   "id": "263b6af1",
   "metadata": {},
   "outputs": [],
   "source": [
    "sns.barplot(df.ApplicantIncome,df.CoapplicantIncome)"
   ]
  },
  {
   "cell_type": "code",
   "execution_count": null,
   "id": "1b1ae167",
   "metadata": {},
   "outputs": [],
   "source": [
    "plt.scatter(df.ApplicantIncome,df.LoanAmount)"
   ]
  },
  {
   "cell_type": "code",
   "execution_count": null,
   "id": "a365d73a",
   "metadata": {},
   "outputs": [],
   "source": [
    "sns.countplot(df['Dependents'],hue=df['Gender'])"
   ]
  },
  {
   "cell_type": "markdown",
   "id": "2bc87704",
   "metadata": {},
   "source": [
    "## Multi variate Analysis"
   ]
  },
  {
   "cell_type": "code",
   "execution_count": null,
   "id": "51ba9d47",
   "metadata": {},
   "outputs": [],
   "source": [
    "sns.heatmap(df.corr(),annot=True)"
   ]
  },
  {
   "cell_type": "code",
   "execution_count": null,
   "id": "42ab461b",
   "metadata": {},
   "outputs": [],
   "source": [
    "plt.plot(df.LoanAmount,df.Loan_Amount_Term,df.ApplicantIncome)"
   ]
  },
  {
   "cell_type": "code",
   "execution_count": null,
   "id": "50eaa3d8",
   "metadata": {},
   "outputs": [],
   "source": [
    "df.plot.line()"
   ]
  },
  {
   "cell_type": "code",
   "execution_count": null,
   "id": "f907ce8d",
   "metadata": {},
   "outputs": [],
   "source": [
    "df.hist()"
   ]
  },
  {
   "cell_type": "code",
   "execution_count": null,
   "id": "c851247d",
   "metadata": {},
   "outputs": [],
   "source": [
    "plt.plot(df.LoanAmount,df.ApplicantIncome,df.CoapplicantIncome)"
   ]
  },
  {
   "cell_type": "code",
   "execution_count": null,
   "id": "d3fc9124",
   "metadata": {},
   "outputs": [],
   "source": [
    "plt.plot(df.Loan_Amount_Term,df.ApplicantIncome,df.CoapplicantIncome)"
   ]
  },
  {
   "cell_type": "markdown",
   "id": "fa541755",
   "metadata": {},
   "source": [
    "## Descriptive Analysis¶"
   ]
  },
  {
   "cell_type": "code",
   "execution_count": null,
   "id": "cfb7ddf7",
   "metadata": {},
   "outputs": [],
   "source": [
    "df.describe()"
   ]
  },
  {
   "cell_type": "code",
   "execution_count": null,
   "id": "06dccced",
   "metadata": {},
   "outputs": [],
   "source": [
    "df.mean()"
   ]
  },
  {
   "cell_type": "code",
   "execution_count": null,
   "id": "c3c700e1",
   "metadata": {},
   "outputs": [],
   "source": [
    "df.mode()"
   ]
  },
  {
   "cell_type": "code",
   "execution_count": null,
   "id": "fe4b14a4",
   "metadata": {},
   "outputs": [],
   "source": [
    "df.std()"
   ]
  },
  {
   "cell_type": "code",
   "execution_count": null,
   "id": "45814847",
   "metadata": {},
   "outputs": [],
   "source": [
    "df.count()"
   ]
  },
  {
   "cell_type": "markdown",
   "id": "89eb19cf",
   "metadata": {},
   "source": [
    "## Data Pre-Processing"
   ]
  },
  {
   "cell_type": "markdown",
   "id": "fab434df",
   "metadata": {},
   "source": [
    "## Check for Null Values"
   ]
  },
  {
   "cell_type": "code",
   "execution_count": null,
   "id": "474d13a9",
   "metadata": {},
   "outputs": [],
   "source": [
    "df.isnull().any()"
   ]
  },
  {
   "cell_type": "code",
   "execution_count": null,
   "id": "0aa9b36f",
   "metadata": {},
   "outputs": [],
   "source": [
    "df.isnull().sum()"
   ]
  },
  {
   "cell_type": "code",
   "execution_count": null,
   "id": "dbad375e",
   "metadata": {},
   "outputs": [],
   "source": [
    "df['LoanAmount']=df['LoanAmount'].fillna(df['LoanAmount'].mean())\n",
    "df['Loan_Amount_Term']=df['Loan_Amount_Term'].fillna(df['Loan_Amount_Term'].mean())\n",
    "df['Credit_History']=df['Credit_History'].fillna(df['Credit_History'].mean())"
   ]
  },
  {
   "cell_type": "code",
   "execution_count": null,
   "id": "cf3e596e",
   "metadata": {},
   "outputs": [],
   "source": [
    "df['Gender']=df['Gender'].fillna(df['Gender'].mode()[0])\n",
    "df['Married']=df['Married'].fillna(df['Married'].mode()[0])\n",
    "df['Dependents']=df['Dependents'].fillna(df['Dependents'].mode()[0])\n",
    "df['Self_Employed']=df['Self_Employed'].fillna(df['Self_Employed'].mode()[0])"
   ]
  },
  {
   "cell_type": "code",
   "execution_count": null,
   "id": "4f088308",
   "metadata": {},
   "outputs": [],
   "source": [
    "df.isnull().any()"
   ]
  },
  {
   "cell_type": "code",
   "execution_count": null,
   "id": "9725fcca",
   "metadata": {},
   "outputs": [],
   "source": [
    "df.isnull().sum()"
   ]
  },
  {
   "cell_type": "markdown",
   "id": "1d0cd3a5",
   "metadata": {},
   "source": [
    "## Handling Categorical Values"
   ]
  },
  {
   "cell_type": "code",
   "execution_count": null,
   "id": "fb7c533f",
   "metadata": {},
   "outputs": [],
   "source": [
    "df.head()"
   ]
  },
  {
   "cell_type": "code",
   "execution_count": null,
   "id": "95ae8c82",
   "metadata": {},
   "outputs": [],
   "source": [
    "le=LabelEncoder()"
   ]
  },
  {
   "cell_type": "code",
   "execution_count": null,
   "id": "22cf0bc8",
   "metadata": {},
   "outputs": [],
   "source": [
    "df.Gender=le.fit_transform(df.Gender)\n",
    "df.Married=le.fit_transform(df.Married)\n",
    "df.Education=le.fit_transform(df.Education)\n",
    "df.Self_Employed=le.fit_transform(df.Self_Employed)\n",
    "df.Property_Area=le.fit_transform(df.Property_Area)\n",
    "df.Loan_Status=le.fit_transform(df.Loan_Status)\n",
    "df.Dependents=le.fit_transform(df.Dependents)"
   ]
  },
  {
   "cell_type": "code",
   "execution_count": null,
   "id": "002b570c",
   "metadata": {},
   "outputs": [],
   "source": [
    "df.head()"
   ]
  },
  {
   "cell_type": "markdown",
   "id": "fe9ccc2d",
   "metadata": {},
   "source": [
    "## Spliting into dependent and independent data"
   ]
  },
  {
   "cell_type": "code",
   "execution_count": null,
   "id": "fe32a79c",
   "metadata": {},
   "outputs": [],
   "source": [
    "df.head()"
   ]
  },
  {
   "cell_type": "code",
   "execution_count": null,
   "id": "43acfd5f",
   "metadata": {},
   "outputs": [],
   "source": [
    "x=df.iloc[:,:-1]\n",
    "y=df.Loan_Status"
   ]
  },
  {
   "cell_type": "code",
   "execution_count": null,
   "id": "2aad1515",
   "metadata": {},
   "outputs": [],
   "source": [
    "x.head()"
   ]
  },
  {
   "cell_type": "code",
   "execution_count": null,
   "id": "a1d51511",
   "metadata": {},
   "outputs": [],
   "source": [
    "y.head()"
   ]
  },
  {
   "cell_type": "markdown",
   "id": "79cd886f",
   "metadata": {},
   "source": [
    "## Scaling The Data"
   ]
  },
  {
   "cell_type": "code",
   "execution_count": null,
   "id": "5fe94074",
   "metadata": {},
   "outputs": [],
   "source": [
    "x_scale=pd.DataFrame(scale(x),columns=x.columns)\n",
    "x_scale.head()"
   ]
  },
  {
   "cell_type": "markdown",
   "id": "382c371c",
   "metadata": {},
   "source": [
    "## Balancing The Dataset"
   ]
  },
  {
   "cell_type": "code",
   "execution_count": null,
   "id": "7abc0ca1",
   "metadata": {},
   "outputs": [],
   "source": [
    "sns.countplot(df.Loan_Status)"
   ]
  },
  {
   "cell_type": "code",
   "execution_count": null,
   "id": "0ad3e244",
   "metadata": {},
   "outputs": [],
   "source": [
    "rus=RandomUnderSampler(sampling_strategy=1)\n",
    "x_res,y_res=rus.fit_resample(x,y)\n",
    "ax=y_res.value_counts().plot.pie(autopct='%.2f')\n",
    "_=ax.set_title(\"under-sampling\")"
   ]
  },
  {
   "cell_type": "markdown",
   "id": "8b280d12",
   "metadata": {},
   "source": [
    "## Splitting Data Into Train and Test"
   ]
  },
  {
   "cell_type": "code",
   "execution_count": null,
   "id": "1b4cc16d",
   "metadata": {},
   "outputs": [],
   "source": [
    "xtrain,xtest,ytrain,ytest=train_test_split(x,y,test_size=0.3,random_state=10)"
   ]
  },
  {
   "cell_type": "code",
   "execution_count": null,
   "id": "021d2b0f",
   "metadata": {},
   "outputs": [],
   "source": [
    "xtrain.head()"
   ]
  },
  {
   "cell_type": "code",
   "execution_count": null,
   "id": "7ffdd48d",
   "metadata": {},
   "outputs": [],
   "source": [
    "xtest.head()"
   ]
  },
  {
   "cell_type": "code",
   "execution_count": null,
   "id": "69f769f7",
   "metadata": {},
   "outputs": [],
   "source": [
    "ytrain.head()"
   ]
  },
  {
   "cell_type": "code",
   "execution_count": null,
   "id": "a10dc8e6",
   "metadata": {},
   "outputs": [],
   "source": [
    "ytest.head()"
   ]
  },
  {
   "cell_type": "code",
   "execution_count": null,
   "id": "a34e52d1",
   "metadata": {},
   "outputs": [],
   "source": [
    "xtrain.shape"
   ]
  },
  {
   "cell_type": "code",
   "execution_count": null,
   "id": "cc152792",
   "metadata": {},
   "outputs": [],
   "source": [
    "xtest.shape"
   ]
  },
  {
   "cell_type": "code",
   "execution_count": null,
   "id": "cd7e16e7",
   "metadata": {},
   "outputs": [],
   "source": [
    "ytrain.shape"
   ]
  },
  {
   "cell_type": "code",
   "execution_count": null,
   "id": "a7573571",
   "metadata": {},
   "outputs": [],
   "source": [
    "ytest.shape"
   ]
  },
  {
   "cell_type": "markdown",
   "id": "d7e5ae45",
   "metadata": {},
   "source": [
    "## Model Building"
   ]
  },
  {
   "cell_type": "markdown",
   "id": "b1a46474",
   "metadata": {},
   "source": [
    "## Decision Tree Model"
   ]
  },
  {
   "cell_type": "code",
   "execution_count": null,
   "id": "c55c28f1",
   "metadata": {},
   "outputs": [],
   "source": [
    "dmodel=DecisionTreeClassifier(random_state=100)"
   ]
  },
  {
   "cell_type": "code",
   "execution_count": null,
   "id": "baad5130",
   "metadata": {},
   "outputs": [],
   "source": [
    "dmodel.fit(x_res,y_res)"
   ]
  },
  {
   "cell_type": "code",
   "execution_count": null,
   "id": "cf2838fa",
   "metadata": {},
   "outputs": [],
   "source": [
    "ypredd=dmodel.predict(xtest)"
   ]
  },
  {
   "cell_type": "code",
   "execution_count": null,
   "id": "e9c51d07",
   "metadata": {},
   "outputs": [],
   "source": [
    "ypred2d=dmodel.predict(xtrain)"
   ]
  },
  {
   "cell_type": "markdown",
   "id": "2c7aac99",
   "metadata": {},
   "source": [
    "## Random Forest Model"
   ]
  },
  {
   "cell_type": "code",
   "execution_count": null,
   "id": "896f4d91",
   "metadata": {},
   "outputs": [],
   "source": [
    "Rmodel=RandomForestClassifier(n_estimators=100)"
   ]
  },
  {
   "cell_type": "code",
   "execution_count": null,
   "id": "68b0540f",
   "metadata": {},
   "outputs": [],
   "source": [
    "Rmodel.fit(x_res,y_res)"
   ]
  },
  {
   "cell_type": "code",
   "execution_count": null,
   "id": "5d5f9f5e",
   "metadata": {},
   "outputs": [],
   "source": [
    "ypredR=Rmodel.predict(xtest)"
   ]
  },
  {
   "cell_type": "code",
   "execution_count": null,
   "id": "828371d0",
   "metadata": {},
   "outputs": [],
   "source": [
    "ypred2R=Rmodel.predict(xtrain)"
   ]
  },
  {
   "cell_type": "markdown",
   "id": "0ac8a772",
   "metadata": {},
   "source": [
    "## KNN Model"
   ]
  },
  {
   "cell_type": "code",
   "execution_count": null,
   "id": "d57d4044",
   "metadata": {},
   "outputs": [],
   "source": [
    "kmodel=KNeighborsClassifier()"
   ]
  },
  {
   "cell_type": "code",
   "execution_count": null,
   "id": "ad423893",
   "metadata": {},
   "outputs": [],
   "source": [
    "kmodel.fit(x_res,y_res)"
   ]
  },
  {
   "cell_type": "code",
   "execution_count": null,
   "id": "3d0da037",
   "metadata": {},
   "outputs": [],
   "source": [
    "ypredk=kmodel.predict(xtest)"
   ]
  },
  {
   "cell_type": "code",
   "execution_count": null,
   "id": "ef65095f",
   "metadata": {},
   "outputs": [],
   "source": [
    "ypred2k=kmodel.predict(xtrain)"
   ]
  },
  {
   "cell_type": "markdown",
   "id": "90abb956",
   "metadata": {},
   "source": [
    "## Xgboost Model"
   ]
  },
  {
   "cell_type": "code",
   "execution_count": null,
   "id": "8a675b51",
   "metadata": {},
   "outputs": [],
   "source": [
    "xmodel=XGBClassifier(eval_metric='mlogloss',n_estimators=100,random_state=100)"
   ]
  },
  {
   "cell_type": "code",
   "execution_count": null,
   "id": "0dc9f720",
   "metadata": {},
   "outputs": [],
   "source": [
    "xmodel.fit(x_res,y_res)"
   ]
  },
  {
   "cell_type": "code",
   "execution_count": null,
   "id": "431ac2a1",
   "metadata": {},
   "outputs": [],
   "source": [
    "ypredx=xmodel.predict(xtest)"
   ]
  },
  {
   "cell_type": "code",
   "execution_count": null,
   "id": "ef23201f",
   "metadata": {},
   "outputs": [],
   "source": [
    "ypred2x=xmodel.predict(xtrain)"
   ]
  },
  {
   "cell_type": "markdown",
   "id": "43c25440",
   "metadata": {},
   "source": [
    "## Compare The Model"
   ]
  },
  {
   "cell_type": "code",
   "execution_count": null,
   "id": "0573411c",
   "metadata": {},
   "outputs": [],
   "source": [
    "print(\"Decision Tree Model Testing Accuracy\")\n",
    "print(accuracy_score(ytest,ypredd))\n",
    "print(\"Decision Tree Model Training Accuracy\")\n",
    "print(accuracy_score(ytrain,ypred2d))"
   ]
  },
  {
   "cell_type": "code",
   "execution_count": null,
   "id": "13d5a694",
   "metadata": {},
   "outputs": [],
   "source": [
    "print(\"Random Forest Model Testing Accuracy\")\n",
    "print(accuracy_score(ytest,ypredR))\n",
    "print(\"Random Forest Model Training Accuracy\")\n",
    "print(accuracy_score(ytrain,ypred2R))"
   ]
  },
  {
   "cell_type": "code",
   "execution_count": null,
   "id": "b066f2fd",
   "metadata": {},
   "outputs": [],
   "source": [
    "print(\"KNN Model Testing Accuracy\")\n",
    "print(accuracy_score(ytest,ypredk))\n",
    "print(\"KNN Model Training Accuracy\")\n",
    "print(accuracy_score(ytrain,ypred2k))"
   ]
  },
  {
   "cell_type": "code",
   "execution_count": null,
   "id": "fe88d084",
   "metadata": {},
   "outputs": [],
   "source": [
    "print(\"Xgboost Model Testing Accuracy\")\n",
    "print(accuracy_score(ytest,ypredx))\n",
    "print(\"Xgboost Model Training Accuracy\")\n",
    "print(accuracy_score(ytrain,ypred2x))"
   ]
  },
  {
   "cell_type": "markdown",
   "id": "536e1deb",
   "metadata": {},
   "source": [
    "## Evaluating Performance Of The Model And Saving The Model"
   ]
  },
  {
   "cell_type": "markdown",
   "id": "3b604097",
   "metadata": {},
   "source": [
    "### Random Forest Model is Selected"
   ]
  },
  {
   "cell_type": "code",
   "execution_count": null,
   "id": "27da3757",
   "metadata": {},
   "outputs": [],
   "source": [
    "print(\"Random Forest Model Testing Accuracy\")\n",
    "print(accuracy_score(ytest,ypredR))\n",
    "print(\"Random Forest Model Training Accuracy\")\n",
    "print(accuracy_score(ytrain,ypred2R))"
   ]
  },
  {
   "cell_type": "code",
   "execution_count": null,
   "id": "a2065373",
   "metadata": {},
   "outputs": [],
   "source": [
    "f1_score(ypredR,ytest,average='weighted')"
   ]
  },
  {
   "cell_type": "code",
   "execution_count": null,
   "id": "b2428828",
   "metadata": {},
   "outputs": [],
   "source": [
    "pd.crosstab(ytest,ypredR)"
   ]
  },
  {
   "cell_type": "code",
   "execution_count": null,
   "id": "0c0fad26",
   "metadata": {},
   "outputs": [],
   "source": [
    "print(confusion_matrix(ytest,ypredR))"
   ]
  },
  {
   "cell_type": "code",
   "execution_count": null,
   "id": "27da0900",
   "metadata": {},
   "outputs": [],
   "source": [
    "print(classification_report(ytest,ypredR))"
   ]
  },
  {
   "cell_type": "markdown",
   "id": "95d215ae",
   "metadata": {},
   "source": [
    "## Saving The Model"
   ]
  },
  {
   "cell_type": "code",
   "execution_count": null,
   "id": "4fa4caed",
   "metadata": {},
   "outputs": [],
   "source": [
    "pickle.dump(Rmodel, 'Rmodel.pkl')"
   ]
  },
  {
   "cell_type": "code",
   "execution_count": null,
   "id": "b32d6865",
   "metadata": {},
   "outputs": [],
   "source": [
    "pickle.dump(x_scale,open('scale.pkl','wb'))"
   ]
  }
 ],
 "metadata": {
  "kernelspec": {
   "display_name": "Python 3 (ipykernel)",
   "language": "python",
   "name": "python3"
  },
  "language_info": {
   "codemirror_mode": {
    "name": "ipython",
    "version": 3
   },
   "file_extension": ".py",
   "mimetype": "text/x-python",
   "name": "python",
   "nbconvert_exporter": "python",
   "pygments_lexer": "ipython3",
   "version": "3.9.7"
  }
 },
 "nbformat": 4,
 "nbformat_minor": 5
}
