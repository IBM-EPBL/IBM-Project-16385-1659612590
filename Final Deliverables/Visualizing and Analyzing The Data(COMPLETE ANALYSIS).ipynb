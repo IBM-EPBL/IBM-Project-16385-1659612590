{
 "cells": [
  {
   "cell_type": "markdown",
   "id": "4f54b687",
   "metadata": {},
   "source": [
    "# UNIVARIATE ANALYSIS"
   ]
  },
  {
   "cell_type": "code",
   "execution_count": null,
   "id": "892b2e9c",
   "metadata": {},
   "outputs": [],
   "source": [
    "import numpy as np \n",
    "import pandas as pd\n",
    "from matplotlib import pyplot as plt\n",
    "import seaborn as sns\n",
    "import seaborn as sns\n",
    "import matplotlib.pyplot as plt\n",
    "\n",
    "import warnings\n",
    "warnings.filterwarnings('ignore')"
   ]
  },
  {
   "cell_type": "markdown",
   "id": "69f82d2c",
   "metadata": {},
   "source": [
    "# LOAD THE DATASET"
   ]
  },
  {
   "cell_type": "code",
   "execution_count": null,
   "id": "04719a13",
   "metadata": {},
   "outputs": [],
   "source": [
    "df=pd.read_csv(\"D:/riyas/Project Development phase/Sprint 1/Data Collection/loan_prediction.csv\")"
   ]
  },
  {
   "cell_type": "code",
   "execution_count": null,
   "id": "a88c96ee",
   "metadata": {},
   "outputs": [],
   "source": [
    "df.head()"
   ]
  },
  {
   "cell_type": "code",
   "execution_count": null,
   "id": "5dd87f27",
   "metadata": {},
   "outputs": [],
   "source": [
    "numerical_features = df.select_dtypes(include = [np.number]).columns\n",
    "categorical_features = df.select_dtypes(include = [np.object]).columns\n",
    "numerical_features"
   ]
  },
  {
   "cell_type": "code",
   "execution_count": null,
   "id": "af6db8a7",
   "metadata": {},
   "outputs": [],
   "source": [
    "categorical_features"
   ]
  },
  {
   "cell_type": "code",
   "execution_count": null,
   "id": "4f566bbb",
   "metadata": {},
   "outputs": [],
   "source": [
    "df.corr()\n",
    "#plotting the correlation\n",
    "plt.figure(1)\n",
    "sns.heatmap(df.corr(), annot = True)"
   ]
  },
  {
   "cell_type": "code",
   "execution_count": null,
   "id": "d36ddbc3",
   "metadata": {},
   "outputs": [],
   "source": [
    "data=df\n",
    "data = np.random.randint(low=1,high=100,size=(10,10))\n",
    "print(data)"
   ]
  },
  {
   "cell_type": "code",
   "execution_count": null,
   "id": "94ad17e7",
   "metadata": {},
   "outputs": [],
   "source": [
    "sns.distplot(df['ApplicantIncome'])"
   ]
  },
  {
   "cell_type": "code",
   "execution_count": null,
   "id": "bc4ade04",
   "metadata": {},
   "outputs": [],
   "source": [
    "sns.distplot(df['CoapplicantIncome'])"
   ]
  },
  {
   "cell_type": "code",
   "execution_count": null,
   "id": "0c389cd3",
   "metadata": {},
   "outputs": [],
   "source": [
    "sns.distplot(df['LoanAmount'])"
   ]
  },
  {
   "cell_type": "code",
   "execution_count": null,
   "id": "f07caa2a",
   "metadata": {},
   "outputs": [],
   "source": [
    "sns.distplot(df['Loan_Amount_Term'])"
   ]
  },
  {
   "cell_type": "code",
   "execution_count": null,
   "id": "f8dd2fc7",
   "metadata": {},
   "outputs": [],
   "source": [
    "sns.distplot(df['Credit_History'])"
   ]
  },
  {
   "cell_type": "code",
   "execution_count": null,
   "id": "0349fb3a",
   "metadata": {},
   "outputs": [],
   "source": [
    "sns.countplot(df.Gender , data = df, palette = 'Set2')"
   ]
  },
  {
   "cell_type": "code",
   "execution_count": null,
   "id": "74f12738",
   "metadata": {},
   "outputs": [],
   "source": [
    "sns.countplot(df.Married , data = df, palette = 'Set2')"
   ]
  },
  {
   "cell_type": "code",
   "execution_count": null,
   "id": "c15a6c42",
   "metadata": {},
   "outputs": [],
   "source": [
    "sns.countplot(df.Dependents , data = df, palette = 'Set2')"
   ]
  },
  {
   "cell_type": "code",
   "execution_count": null,
   "id": "600a5f89",
   "metadata": {},
   "outputs": [],
   "source": [
    "sns.countplot(df.Education , data = df, palette = 'Set2')"
   ]
  },
  {
   "cell_type": "code",
   "execution_count": null,
   "id": "7212ba84",
   "metadata": {},
   "outputs": [],
   "source": [
    "sns.countplot(df.Self_Employed , data = df, palette = 'Set2')"
   ]
  },
  {
   "cell_type": "code",
   "execution_count": null,
   "id": "9050a92e",
   "metadata": {},
   "outputs": [],
   "source": [
    "sns.countplot(df.Property_Area , data = df, palette = 'Set2')"
   ]
  },
  {
   "cell_type": "code",
   "execution_count": null,
   "id": "6ba6794c",
   "metadata": {},
   "outputs": [],
   "source": [
    "sns.countplot(df.Loan_Status , data = df, palette = 'Set2')"
   ]
  },
  {
   "cell_type": "code",
   "execution_count": null,
   "id": "447353d0",
   "metadata": {},
   "outputs": [],
   "source": [
    "#Plotting the features of the dataset to see the correlation between Number of Applicant and ApplicantIncome\n",
    "ApplicantIncome15000_10000 = df.ApplicantIncome[(df.ApplicantIncome <= 15000) & (df.ApplicantIncome >= 10000)]\n",
    "ApplicantIncome20000_15000 = df.ApplicantIncome[(df.ApplicantIncome <= 20000) & (df.ApplicantIncome >= 15000)]\n",
    "ApplicantIncome25000_20000 = df.ApplicantIncome[(df.ApplicantIncome <= 25000) & (df.ApplicantIncome >= 20000)]\n",
    "ApplicantIncome30000_25000 = df.ApplicantIncome[(df.ApplicantIncome <= 30000) & (df.ApplicantIncome >= 25000)]\n",
    "ApplicantIncome30000above = df.ApplicantIncome[df.ApplicantIncome >= 30000]\n",
    "x = [\"10000-15000\",\"15000-20000\",\"20000-25000\",\"25000-30000\",\"30000+\"]\n",
    "y = [len(ApplicantIncome15000_10000.values),len(ApplicantIncome20000_15000.values),len(ApplicantIncome25000_20000.values),len(ApplicantIncome30000_25000.values),len(ApplicantIncome30000above.values)]\n",
    "plt.figure(figsize=(8,6))\n",
    "sns.barplot(x=x, y=y, palette=\"rocket\")\n",
    "plt.title(\"Number of Applicant and ApplicantIncome\")\n",
    "plt.xlabel(\"ApplicantIncome\")\n",
    "plt.ylabel(\"Number of Applicant\")\n",
    "plt.show()"
   ]
  },
  {
   "cell_type": "markdown",
   "id": "4abb4610",
   "metadata": {},
   "source": [
    "# BI - VARIATE ANALYSIS"
   ]
  },
  {
   "cell_type": "code",
   "execution_count": null,
   "id": "3ea6d76f",
   "metadata": {},
   "outputs": [],
   "source": [
    "#exploring the Gender columns more\n",
    "plt.figure(3, figsize=(12, 10))\n",
    "g = sns.FacetGrid(data = df, col= 'Gender', height = 4)\n",
    "g.map(sns.distplot, 'Credit_History')\n"
   ]
  },
  {
   "cell_type": "code",
   "execution_count": null,
   "id": "2eddf243",
   "metadata": {},
   "outputs": [],
   "source": [
    "#exploring the Education columns more\n",
    "plt.figure(3, figsize=(12, 10))\n",
    "g = sns.FacetGrid(data = df, col= 'Education', height = 4)\n",
    "g.map(sns.distplot, 'LoanAmount')\n"
   ]
  },
  {
   "cell_type": "code",
   "execution_count": null,
   "id": "1d558847",
   "metadata": {},
   "outputs": [],
   "source": [
    "#exploring the Married columns more\n",
    "plt.figure(3, figsize=(12, 10))\n",
    "g = sns.FacetGrid(data = df, col= 'Married', height = 4)\n",
    "g.map(sns.distplot, 'ApplicantIncome')"
   ]
  },
  {
   "cell_type": "code",
   "execution_count": null,
   "id": "e4a068cd",
   "metadata": {},
   "outputs": [],
   "source": [
    "# Plotting the features of the dataset to see the correlation between them\n",
    "\n",
    "plt.hist(x = df.Property_Area, bins = 3, color=\"navy\")\n",
    "plt.title('comparison of Property_Area')\n",
    "plt.xlabel('Property_Area')\n",
    "plt.ylabel('Credit_History')\n",
    "plt.show()"
   ]
  },
  {
   "cell_type": "code",
   "execution_count": null,
   "id": "2fc68622",
   "metadata": {},
   "outputs": [],
   "source": [
    "# Plotting the features of the dataset to see the correlation between them\n",
    "\n",
    "plt.hist(x = df.Loan_Status, bins = 3, color=\"brown\")\n",
    "plt.title('comparison of Loan_Status')\n",
    "plt.xlabel('Loan_Status')\n",
    "plt.ylabel('ApplicantIncome')\n",
    "plt.show()"
   ]
  },
  {
   "cell_type": "code",
   "execution_count": null,
   "id": "cbc4df5b",
   "metadata": {},
   "outputs": [],
   "source": [
    "\n",
    "# Now we will find the relationship between Loan_Status \n",
    "# As there is no relationship between Married and Loan_Status \n",
    "sns.countplot(x=\"Married\", hue=\"Loan_Status\",data=df)"
   ]
  },
  {
   "cell_type": "code",
   "execution_count": null,
   "id": "7684f1c1",
   "metadata": {},
   "outputs": [],
   "source": [
    "#  Gender v/s Loan status\n",
    "sns.countplot(x=\"Gender\", hue=\"Loan_Status\", data=df);\n",
    "\n",
    "#  Most of the males have got there loans approved."
   ]
  },
  {
   "cell_type": "code",
   "execution_count": null,
   "id": "6bd0b34f",
   "metadata": {},
   "outputs": [],
   "source": [
    "# comparison between Self_Employed and Gender\n",
    "\n",
    "Gender = pd.crosstab(df['Gender'],df['Self_Employed'])\n",
    "Gender.div(Gender.sum(1).astype(float), axis=0).plot(kind=\"bar\", stacked=True, figsize=(6, 6))"
   ]
  },
  {
   "cell_type": "code",
   "execution_count": null,
   "id": "fbb57f69",
   "metadata": {},
   "outputs": [],
   "source": [
    "# comparison between Loan_Status and Gender\n",
    "\n",
    "Gender = pd.crosstab(df['Gender'],df['Loan_Status'])\n",
    "Gender.div(Gender.sum(1).astype(float), axis=0).plot(kind=\"bar\", stacked=True, figsize=(6, 6))"
   ]
  },
  {
   "cell_type": "markdown",
   "id": "088a3f43",
   "metadata": {},
   "source": [
    "# Loan Amount In Term of gender"
   ]
  },
  {
   "cell_type": "code",
   "execution_count": null,
   "id": "e8ce7204",
   "metadata": {},
   "outputs": [],
   "source": [
    "total_0 = df.Loan_Amount_Term[df.Dependents == '0'].sum()\n",
    "total_1 = df.Loan_Amount_Term[df.Dependents == '1'].sum()\n",
    "total_2 = df.Loan_Amount_Term[df.Dependents == '2'].sum()\n",
    "total_3above = df.Loan_Amount_Term[df.Dependents == '3+'].sum()\n",
    "\n",
    "print(\"Total Balance in Dependents 0 :\",total_0)\n",
    "print(\"Total Balance in Dependents 1 :\",total_1)\n",
    "print(\"Total Balance in Dependents 2 :\",total_2)\n",
    "print(\"Total Balance in Dependents 3 :\",total_3above)"
   ]
  },
  {
   "cell_type": "code",
   "execution_count": null,
   "id": "3076315c",
   "metadata": {},
   "outputs": [],
   "source": [
    "# plotting a pie chart\n",
    "\n",
    "labels = '0', '1','2' ,'3+'\n",
    "colors = ['brown', 'navy', 'darkgreen' , 'orange']\n",
    "sizes =  [116, 332, 344, 162]\n",
    "explode = [ 0.01, 0.01, 0.01, 0.01]\n",
    "\n",
    "plt.pie(sizes, colors = colors, labels = labels, explode = explode, shadow = True)\n",
    "\n",
    "plt.axis('equal')\n",
    "plt.show()"
   ]
  },
  {
   "cell_type": "markdown",
   "id": "e6113463",
   "metadata": {},
   "source": [
    "# MULTI VARIATE ANALYSIS "
   ]
  },
  {
   "cell_type": "code",
   "execution_count": null,
   "id": "72784cae",
   "metadata": {},
   "outputs": [],
   "source": [
    "#Visualizations Dependents vs LoanAmount vs Gender\n",
    "sns.barplot(df.Dependents,df.LoanAmount, hue_order=df.Gender ,palette=\"rocket\")"
   ]
  },
  {
   "cell_type": "code",
   "execution_count": null,
   "id": "d973cefe",
   "metadata": {},
   "outputs": [],
   "source": [
    "#Visualizations Loan_Status vs Loan_Amount_Term vs Gender\n",
    "sns.barplot(df.Loan_Status,df.Loan_Amount_Term,hue=df.Gender, palette=\"pastel\")"
   ]
  },
  {
   "cell_type": "code",
   "execution_count": null,
   "id": "5da18b2e",
   "metadata": {},
   "outputs": [],
   "source": [
    "# Credit_History vs ApplicantIncome and Gender\n",
    "sns.barplot(df['Credit_History'], df['ApplicantIncome'], hue = df['Gender'], palette = 'pastel')\n",
    "plt.title('Credit_History vs ApplicantIncome and Gender', fontsize = 20)\n"
   ]
  },
  {
   "cell_type": "markdown",
   "id": "d1936f81",
   "metadata": {},
   "source": [
    "## 3-D Plotting"
   ]
  },
  {
   "cell_type": "code",
   "execution_count": null,
   "id": "431d9d21",
   "metadata": {},
   "outputs": [],
   "source": [
    "plt.figure(figsize=(10,10))\n",
    "\n",
    "import pyplot.express as px\n",
    "\n",
    "fig = px.scatter_3d(df, x='Dependents', y='Gender', z='LoanAmount',#hue='Gender')\n",
    "\n",
    "color='Credit_History')\n",
    "\n",
    "fig.show()"
   ]
  },
  {
   "cell_type": "code",
   "execution_count": null,
   "id": "6323b4bb",
   "metadata": {},
   "outputs": [],
   "source": [
    "#Pairplot Analysis for Gender\n",
    "sns.pairplot(df,hue='Gender',size=2)"
   ]
  },
  {
   "cell_type": "markdown",
   "id": "d7e6c11b",
   "metadata": {},
   "source": [
    "## Pairplot Analysis\n"
   ]
  },
  {
   "cell_type": "code",
   "execution_count": null,
   "id": "9cd097af",
   "metadata": {},
   "outputs": [],
   "source": [
    "#Pairplot Analysis for LoanAmount\n",
    "sns.pairplot(df,hue='LoanAmount',size=2)"
   ]
  },
  {
   "cell_type": "markdown",
   "id": "a4c9bee4",
   "metadata": {},
   "source": [
    "## HISTOGRAM PLOT"
   ]
  },
  {
   "cell_type": "code",
   "execution_count": null,
   "id": "c4e99046",
   "metadata": {},
   "outputs": [],
   "source": [
    "# Histogram visualisation for each attribute to know what kind of distribution it is?\n",
    "df.hist(figsize=(10,10), grid=False, layout=(3,2), bins = 30 , color = \"pink\" )"
   ]
  },
  {
   "cell_type": "markdown",
   "id": "c2767a7c",
   "metadata": {},
   "source": [
    "# Descriptive Analysis"
   ]
  },
  {
   "cell_type": "code",
   "execution_count": null,
   "id": "3a20143a",
   "metadata": {},
   "outputs": [],
   "source": [
    "df.head()"
   ]
  },
  {
   "cell_type": "code",
   "execution_count": null,
   "id": "9fa4d954",
   "metadata": {},
   "outputs": [],
   "source": [
    "df.tail()"
   ]
  },
  {
   "cell_type": "code",
   "execution_count": null,
   "id": "8b8e114e",
   "metadata": {},
   "outputs": [],
   "source": [
    "df.Loan_Status"
   ]
  },
  {
   "cell_type": "code",
   "execution_count": null,
   "id": "3be30248",
   "metadata": {},
   "outputs": [],
   "source": [
    "import seaborn as sns\n",
    "import matplotlib.pyplot as plt\n",
    "\n",
    "sns.heatmap(df.isnull(),yticklabels=False,cbar=False)"
   ]
  },
  {
   "cell_type": "code",
   "execution_count": null,
   "id": "672f3528",
   "metadata": {},
   "outputs": [],
   "source": [
    "df.isnull().any()"
   ]
  },
  {
   "cell_type": "code",
   "execution_count": null,
   "id": "58955d1b",
   "metadata": {},
   "outputs": [],
   "source": [
    "numerical_features = df.select_dtypes(include = [np.number]).columns\n",
    "categorical_features = df.select_dtypes(include = [np.object]).columns"
   ]
  },
  {
   "cell_type": "code",
   "execution_count": null,
   "id": "36c56b4e",
   "metadata": {},
   "outputs": [],
   "source": [
    "numerical_features"
   ]
  },
  {
   "cell_type": "code",
   "execution_count": null,
   "id": "d3c0675c",
   "metadata": {},
   "outputs": [],
   "source": [
    "categorical_features"
   ]
  },
  {
   "cell_type": "code",
   "execution_count": null,
   "id": "10ab4d68",
   "metadata": {},
   "outputs": [],
   "source": [
    "df.describe()"
   ]
  },
  {
   "cell_type": "code",
   "execution_count": null,
   "id": "e27b61a0",
   "metadata": {},
   "outputs": [],
   "source": [
    "df.columns"
   ]
  },
  {
   "cell_type": "code",
   "execution_count": null,
   "id": "4fd1bb70",
   "metadata": {},
   "outputs": [],
   "source": [
    "df.dtypes"
   ]
  },
  {
   "cell_type": "code",
   "execution_count": null,
   "id": "d37fad5f",
   "metadata": {},
   "outputs": [],
   "source": [
    "df.var()"
   ]
  },
  {
   "cell_type": "code",
   "execution_count": null,
   "id": "d05610bd",
   "metadata": {},
   "outputs": [],
   "source": [
    "df.skew()"
   ]
  },
  {
   "cell_type": "code",
   "execution_count": null,
   "id": "e4ec5042",
   "metadata": {},
   "outputs": [],
   "source": [
    "df.corr()"
   ]
  },
  {
   "cell_type": "code",
   "execution_count": null,
   "id": "9e6235f3",
   "metadata": {},
   "outputs": [],
   "source": [
    "df.corr()\n",
    "#plotting the correlation\n",
    "plt.figure(1)\n",
    "sns.heatmap(df.corr(), annot = True)"
   ]
  },
  {
   "cell_type": "code",
   "execution_count": null,
   "id": "49508ffa",
   "metadata": {},
   "outputs": [],
   "source": [
    "data=df\n",
    "data = np.random.randint(low=1,high=100,size=(10,10))\n",
    "print(data)"
   ]
  }
 ],
 "metadata": {
  "kernelspec": {
   "display_name": "Python 3 (ipykernel)",
   "language": "python",
   "name": "python3"
  },
  "language_info": {
   "codemirror_mode": {
    "name": "ipython",
    "version": 3
   },
   "file_extension": ".py",
   "mimetype": "text/x-python",
   "name": "python",
   "nbconvert_exporter": "python",
   "pygments_lexer": "ipython3",
   "version": "3.9.7"
  }
 },
 "nbformat": 4,
 "nbformat_minor": 5
}
